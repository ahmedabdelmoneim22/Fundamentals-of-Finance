{
 "cells": [
  {
   "cell_type": "code",
   "execution_count": 1,
   "id": "aa9d4c53-a98b-4b1e-b197-3f72d2cca4fe",
   "metadata": {},
   "outputs": [
    {
     "name": "stdout",
     "output_type": "stream",
     "text": [
      "Corporate Finance التمويل المؤسسي\n"
     ]
    }
   ],
   "source": [
    "print(\"Corporate Finance التمويل المؤسسي\")"
   ]
  },
  {
   "cell_type": "code",
   "execution_count": 2,
   "id": "0cb48290-7c68-4a7d-a8ba-40a5fc329940",
   "metadata": {},
   "outputs": [
    {
     "name": "stdout",
     "output_type": "stream",
     "text": [
      "Step 1: Calculate Future Value (FV) of Option 1\n"
     ]
    }
   ],
   "source": [
    "print(\"Step 1: Calculate Future Value (FV) of Option 1\")"
   ]
  },
  {
   "cell_type": "code",
   "execution_count": 3,
   "id": "4d065877-cd55-4238-b04c-f8c1e99ab8ea",
   "metadata": {},
   "outputs": [
    {
     "name": "stdout",
     "output_type": "stream",
     "text": [
      "If you invest $10,000 today at 6% interest, the Future Value (FV) in 5 years is:\n"
     ]
    }
   ],
   "source": [
    "print(\"If you invest $10,000 today at 6% interest, the Future Value (FV) in 5 years is:\")"
   ]
  },
  {
   "cell_type": "code",
   "execution_count": 13,
   "id": "77105a02-783f-40e3-b191-d122e6b1abea",
   "metadata": {},
   "outputs": [
    {
     "name": "stdout",
     "output_type": "stream",
     "text": [
      "FV=PV×(1+r)power(n)\n"
     ]
    }
   ],
   "source": [
    "print(\"FV=PV×(1+r)power(n)\")"
   ]
  },
  {
   "cell_type": "code",
   "execution_count": 26,
   "id": "1d17f6c8-d3b8-4880-95ac-c95de483e42c",
   "metadata": {},
   "outputs": [
    {
     "name": "stdin",
     "output_type": "stream",
     "text": [
      "Enter Your Invest: 10000\n",
      "Enter Interest Rate: 0.06\n",
      "Enter Number Of Years: 5\n"
     ]
    },
    {
     "name": "stdout",
     "output_type": "stream",
     "text": [
      "Future Value (FV) = 13382.255776000004\n"
     ]
    }
   ],
   "source": [
    "PV = int(input(\"Enter Your Invest:\"))# 10000\n",
    "R = float(input(\"Enter Interest Rate:\"))# 0.06\n",
    "N = int(input(\"Enter Number Of Years:\"))# 5\n",
    "FV = PV * ((1+R)**N)\n",
    "print(\"Future Value (FV) =\",FV)"
   ]
  },
  {
   "cell_type": "code",
   "execution_count": 16,
   "id": "1b19dd97-ed09-4857-a3b6-528cc5a0f3c0",
   "metadata": {},
   "outputs": [
    {
     "name": "stdout",
     "output_type": "stream",
     "text": [
      "************************************\n"
     ]
    }
   ],
   "source": [
    "print(\"************************************\")"
   ]
  },
  {
   "cell_type": "code",
   "execution_count": 17,
   "id": "f57d6d4b-a668-4736-b25e-3ef56682c5bc",
   "metadata": {},
   "outputs": [
    {
     "name": "stdout",
     "output_type": "stream",
     "text": [
      "Step 2: Calculate Present Value (PV) of Option 2\n"
     ]
    }
   ],
   "source": [
    "print(\"Step 2: Calculate Present Value (PV) of Option 2\")"
   ]
  },
  {
   "cell_type": "code",
   "execution_count": 18,
   "id": "40971614-8ef7-47a2-ad25-73cb11546414",
   "metadata": {},
   "outputs": [
    {
     "name": "stdout",
     "output_type": "stream",
     "text": [
      "Find the Present Value (PV) of receiving $13,000 in 5 years, using a 6% discount rate:\n"
     ]
    }
   ],
   "source": [
    "print(\"Find the Present Value (PV) of receiving $13,000 in 5 years, using a 6% discount rate:\")"
   ]
  },
  {
   "cell_type": "code",
   "execution_count": 23,
   "id": "16f02a86-dfff-41b0-b573-02ca115fe88e",
   "metadata": {},
   "outputs": [
    {
     "name": "stdout",
     "output_type": "stream",
     "text": [
      "PV=FV/(1+r)power(n)\n"
     ]
    }
   ],
   "source": [
    "print(\"PV=FV/(1+r)power(n)\")"
   ]
  },
  {
   "cell_type": "code",
   "execution_count": 25,
   "id": "2129213a-7c62-4e2d-91f2-646f09688e92",
   "metadata": {},
   "outputs": [
    {
     "name": "stdin",
     "output_type": "stream",
     "text": [
      "Enter Your Invest: 13000\n",
      "Enter Interest Rate: 0.06\n",
      "Enter Number Of Years: 5\n"
     ]
    },
    {
     "name": "stdout",
     "output_type": "stream",
     "text": [
      "Present Value (PV) = 9714.356247258742\n"
     ]
    }
   ],
   "source": [
    "FV = int(input(\"Enter Your Invest:\"))# 13000\n",
    "R = float(input(\"Enter Interest Rate:\"))# 0.06\n",
    "N = int(input(\"Enter Number Of Years:\"))# 5\n",
    "PV = FV / ((1+R)**N)\n",
    "print(\"Present Value (PV) =\",PV)"
   ]
  },
  {
   "cell_type": "code",
   "execution_count": 8,
   "id": "5b56f7bf-6885-4fd2-b2ed-2f9c2f9efc79",
   "metadata": {},
   "outputs": [
    {
     "name": "stdout",
     "output_type": "stream",
     "text": [
      "***************************************\n"
     ]
    }
   ],
   "source": [
    "print(\"***************************************\")"
   ]
  },
  {
   "cell_type": "code",
   "execution_count": 29,
   "id": "d6eddf3b-ffab-411b-a48d-0c92f6bfb39d",
   "metadata": {},
   "outputs": [
    {
     "name": "stdout",
     "output_type": "stream",
     "text": [
      "Net Present Value (NPV) Rule in Finance القيمة الحالية الصافية\n"
     ]
    }
   ],
   "source": [
    "print(\"Net Present Value (NPV) Rule in Finance القيمة الحالية الصافية\")"
   ]
  },
  {
   "cell_type": "code",
   "execution_count": 30,
   "id": "4ab98b05-5ed2-4e26-b96a-2061234505bf",
   "metadata": {},
   "outputs": [
    {
     "name": "stdout",
     "output_type": "stream",
     "text": [
      "NPV = ∑Ct / (1 + r)power(t) - C0\n",
      "Ct = Cash flow in period t\n",
      "r = Discount rate\n",
      "t = Time period\n",
      "C0 = Initial investment\n"
     ]
    }
   ],
   "source": [
    "print(\"NPV = ∑Ct / (1 + r)power(t) - C0\")\n",
    "print(\"Ct = Cash flow in period t\")\n",
    "print(\"r = Discount rate\")\n",
    "print(\"t = Time period\")\n",
    "print(\"C0 = Initial investment\")"
   ]
  },
  {
   "cell_type": "code",
   "execution_count": 31,
   "id": "f98294b2-f05b-420e-ad72-d769b837fb39",
   "metadata": {},
   "outputs": [
    {
     "name": "stdout",
     "output_type": "stream",
     "text": [
      ">>NPV Decision Rule<<\n",
      "NPV > 0 → Accept the investment\n",
      "NPV < 0 → Reject the investment\n",
      "NPV = 0 → Indifferent\n"
     ]
    }
   ],
   "source": [
    "print(\">>NPV Decision Rule<<\")\n",
    "print(\"NPV > 0 → Accept the investment\")\n",
    "print(\"NPV < 0 → Reject the investment\")\n",
    "print(\"NPV = 0 → Indifferent\")"
   ]
  },
  {
   "cell_type": "code",
   "execution_count": 1,
   "id": "9517058a-23d3-43ae-8c20-249ddd582ea2",
   "metadata": {},
   "outputs": [
    {
     "name": "stdout",
     "output_type": "stream",
     "text": [
      " \n",
      "Scenario\n",
      "A retail company is considering opening a new store, \n",
      "which requires an initial investment of $50,000. \n",
      "The projected cash flows over the next 5 years are:\n",
      "Year 1: $12,000\n",
      "Year 2: $14,000\n",
      "Year 3: $16,000\n",
      "Year 4: $18,000\n",
      "Year 5: $20,000\n",
      "The company’s required rate of return is 9% (0.09).\n",
      "\n"
     ]
    }
   ],
   "source": [
    "print(\"\"\" \n",
    "Scenario\n",
    "A retail company is considering opening a new store, \n",
    "which requires an initial investment of $50,000. \n",
    "The projected cash flows over the next 5 years are:\n",
    "Year 1: $12,000\n",
    "Year 2: $14,000\n",
    "Year 3: $16,000\n",
    "Year 4: $18,000\n",
    "Year 5: $20,000\n",
    "The company’s required rate of return is 9% (0.09).\n",
    "\"\"\")"
   ]
  },
  {
   "cell_type": "code",
   "execution_count": 7,
   "id": "00370a0d-8d84-4310-b3de-f11499625f70",
   "metadata": {},
   "outputs": [
    {
     "name": "stdin",
     "output_type": "stream",
     "text": [
      "Initial investment: 0.5\n",
      "Enter Time period Year: 1\n",
      "Enter Discount rate: 0.05\n",
      "Enter Cash flow Year1: 0.54\n"
     ]
    },
    {
     "name": "stdout",
     "output_type": "stream",
     "text": [
      "Net Present Value (NPV) = 0.014285714285714346\n",
      "Accept the investment\n"
     ]
    }
   ],
   "source": [
    "C0 = float(input(\"Initial investment:\"))\n",
    "t = float(input(\"Enter Time period Year:\"))\n",
    "r = float(input(\"Enter Discount rate:\"))\n",
    "i = 1\n",
    "ct = 0\n",
    "while i <= t:\n",
    "    Ct = float(input(f\"Enter Cash flow Year{i}:\"))\n",
    "    ct = ct + (Ct / (1 + r)**(i))\n",
    "    i = i + 1\n",
    "NPV =  ct - C0\n",
    "print(\"Net Present Value (NPV) =\",NPV)\n",
    "if NPV > 0:\n",
    "    print(\"Accept the investment\")\n",
    "elif NPV < 0:\n",
    "    print(\"Reject the investment\")\n",
    "else:\n",
    "    print(\"Indifferent\")"
   ]
  },
  {
   "cell_type": "code",
   "execution_count": 9,
   "id": "a42ba213-1d83-4491-aacb-9e98ac1ec5aa",
   "metadata": {},
   "outputs": [
    {
     "name": "stdout",
     "output_type": "stream",
     "text": [
      "***************************************\n"
     ]
    }
   ],
   "source": [
    "print(\"***************************************\")"
   ]
  },
  {
   "cell_type": "code",
   "execution_count": 10,
   "id": "63deef50-f71c-4de5-a29f-cb58701f47cb",
   "metadata": {},
   "outputs": [
    {
     "name": "stdout",
     "output_type": "stream",
     "text": [
      "Separation Theorem نظرية الفصل\n"
     ]
    }
   ],
   "source": [
    "print(\"Separation Theorem نظرية الفصل\")"
   ]
  },
  {
   "cell_type": "code",
   "execution_count": 14,
   "id": "149a68a9-aba5-4e9c-8a06-5f457d5527a9",
   "metadata": {},
   "outputs": [
    {
     "name": "stdout",
     "output_type": "stream",
     "text": [
      "When to Consume>>>{NPV Rule}>>>What Projects to Choose?\n"
     ]
    }
   ],
   "source": [
    "print(\"When to Consume>>>{NPV Rule}>>>What Projects to Choose?\")"
   ]
  },
  {
   "cell_type": "code",
   "execution_count": 15,
   "id": "f52d72f3-a83c-4132-9cce-50ef15282e21",
   "metadata": {},
   "outputs": [
    {
     "name": "stdout",
     "output_type": "stream",
     "text": [
      "**************************************\n"
     ]
    }
   ],
   "source": [
    "print(\"**************************************\")"
   ]
  },
  {
   "cell_type": "code",
   "execution_count": 16,
   "id": "e1cd2cee-662f-4c19-af31-5e7057335ec7",
   "metadata": {},
   "outputs": [
    {
     "name": "stdout",
     "output_type": "stream",
     "text": [
      "Compound vs. simple interest الفائدة المركبة مقابل الفائدة البسيطة\n"
     ]
    }
   ],
   "source": [
    "print(\"Compound vs. simple interest الفائدة المركبة مقابل الفائدة البسيطة\")"
   ]
  },
  {
   "cell_type": "code",
   "execution_count": 17,
   "id": "36f5c7a5-ae30-476b-9eb6-b992ce2e3ff9",
   "metadata": {},
   "outputs": [
    {
     "name": "stdout",
     "output_type": "stream",
     "text": [
      "1. Simple Interest (SI) الفائدة البسيطة\n"
     ]
    }
   ],
   "source": [
    "print(\"1. Simple Interest (SI) الفائدة البسيطة\")"
   ]
  },
  {
   "cell_type": "code",
   "execution_count": 18,
   "id": "596ff9b3-673c-44b7-b420-d1ff67832c97",
   "metadata": {},
   "outputs": [
    {
     "name": "stdout",
     "output_type": "stream",
     "text": [
      "SI = P×r×t\n",
      "SI = Simple Interest\n",
      "P = Principal (initial amount)\n",
      "r = Annual interest rate (decimal form)\n",
      "t = Time (in years)\n"
     ]
    }
   ],
   "source": [
    "print(\"SI = P×r×t\")\n",
    "print(\"SI = Simple Interest\")\n",
    "print(\"P = Principal (initial amount)\")\n",
    "print(\"r = Annual interest rate (decimal form)\")\n",
    "print(\"t = Time (in years)\")"
   ]
  },
  {
   "cell_type": "code",
   "execution_count": 20,
   "id": "acbaefb8-46de-42f2-9a40-ca4adf6b7c1c",
   "metadata": {},
   "outputs": [
    {
     "name": "stdout",
     "output_type": "stream",
     "text": [
      "Example of Simple Interest:-If you invest $1,000 at 5% annual interest for 3 Years.\n"
     ]
    }
   ],
   "source": [
    "print(\"Example of Simple Interest:-If you invest $1,000 at 5% annual interest for 3 Years.\") "
   ]
  },
  {
   "cell_type": "code",
   "execution_count": 21,
   "id": "4af63b95-21b4-44da-9ef8-e0b4f5511f50",
   "metadata": {},
   "outputs": [
    {
     "name": "stdin",
     "output_type": "stream",
     "text": [
      "Enter Initial Amount: 1000\n",
      "Enter Annual Interest Rate: 0.05\n",
      "Enter Time In Years: 3\n"
     ]
    },
    {
     "name": "stdout",
     "output_type": "stream",
     "text": [
      "150.0\n"
     ]
    }
   ],
   "source": [
    "P = float(input(\"Enter Initial Amount:\"))\n",
    "R = float(input(\"Enter Annual Interest Rate:\"))\n",
    "T = float(input(\"Enter Time In Years:\"))\n",
    "SI = P * R * T\n",
    "print(SI)"
   ]
  },
  {
   "cell_type": "code",
   "execution_count": 22,
   "id": "9e022229-9935-42a0-84e1-36c20011feab",
   "metadata": {},
   "outputs": [
    {
     "name": "stdout",
     "output_type": "stream",
     "text": [
      "******************************************\n"
     ]
    }
   ],
   "source": [
    "print(\"******************************************\")"
   ]
  },
  {
   "cell_type": "code",
   "execution_count": 25,
   "id": "c040a0c9-a9a7-4c14-bc6f-4d9e96956bac",
   "metadata": {},
   "outputs": [
    {
     "name": "stdout",
     "output_type": "stream",
     "text": [
      "2. Compound Interest (CI) الفائدة المركبة\n"
     ]
    }
   ],
   "source": [
    "print(\"2. Compound Interest (CI) الفائدة المركبة\")"
   ]
  },
  {
   "cell_type": "code",
   "execution_count": 26,
   "id": "176f3101-062d-4494-b14d-f27eb782cbd9",
   "metadata": {},
   "outputs": [
    {
     "name": "stdout",
     "output_type": "stream",
     "text": [
      "CI = p x (1 + (r / n))nxt\n"
     ]
    }
   ],
   "source": [
    "print(\"CI = p x (1 + (r / n))nxt\")"
   ]
  },
  {
   "cell_type": "code",
   "execution_count": 27,
   "id": "5716a999-6ad6-492a-9ba1-17bd94a93a16",
   "metadata": {},
   "outputs": [
    {
     "name": "stdout",
     "output_type": "stream",
     "text": [
      "📌 \"Compound interest is the eighth wonder of the world. \n",
      "He who understands it, earns it… he who doesn’t, pays it.\" — Albert Einstein\n"
     ]
    }
   ],
   "source": [
    "print(\"\"\"📌 \"Compound interest is the eighth wonder of the world. \n",
    "He who understands it, earns it… he who doesn’t, pays it.\" — Albert Einstein\"\"\")"
   ]
  },
  {
   "cell_type": "code",
   "execution_count": 28,
   "id": "74f05b6b-9c55-4508-9962-b3f087397dca",
   "metadata": {},
   "outputs": [
    {
     "name": "stdout",
     "output_type": "stream",
     "text": [
      "CI = Compound Interest\n",
      "PP = Principal\n",
      "rr = Annual interest rate (decimal form)\n",
      "nn = Number of times interest is compounded per year\n",
      "tt = Time (in years)\n"
     ]
    }
   ],
   "source": [
    "print(\"CI = Compound Interest\")\n",
    "print(\"PP = Principal\")\n",
    "print(\"rr = Annual interest rate (decimal form)\")\n",
    "print(\"nn = Number of times interest is compounded per year\")\n",
    "print(\"tt = Time (in years)\")"
   ]
  },
  {
   "cell_type": "code",
   "execution_count": 30,
   "id": "aad9b30a-091f-43ef-961c-ff9f387f3c93",
   "metadata": {},
   "outputs": [
    {
     "name": "stdout",
     "output_type": "stream",
     "text": [
      "If you invest $1,000 at 5% annual interest, compounded annually for 3 years:\n"
     ]
    }
   ],
   "source": [
    "print(\"If you invest $1,000 at 5% annual interest, compounded annually for 3 years:\")"
   ]
  },
  {
   "cell_type": "code",
   "execution_count": 29,
   "id": "a4e1c946-8e2e-4ff9-b41b-4cd09cd256eb",
   "metadata": {},
   "outputs": [
    {
     "name": "stdin",
     "output_type": "stream",
     "text": [
      "Enter Initial Amount: 1000\n",
      "Enter Annual Interest Rate: 0.05\n",
      "Enter Time In Years: 3\n",
      "Enter Number of times interest per year: 1\n"
     ]
    },
    {
     "name": "stdout",
     "output_type": "stream",
     "text": [
      "1157.6250000000002\n"
     ]
    }
   ],
   "source": [
    "P = float(input(\"Enter Initial Amount:\"))\n",
    "R = float(input(\"Enter Annual Interest Rate:\"))\n",
    "T = float(input(\"Enter Time In Years:\"))\n",
    "N = float(input(\"Enter Number of times interest per year:\"))\n",
    "CI = P * (1 +(R / N))**(N*T)\n",
    "print(CI)"
   ]
  },
  {
   "cell_type": "code",
   "execution_count": 31,
   "id": "9d543f59-0946-47f0-86da-4c5fdefeccfc",
   "metadata": {},
   "outputs": [
    {
     "name": "stdout",
     "output_type": "stream",
     "text": [
      "******************************************************\n"
     ]
    }
   ],
   "source": [
    "print(\"******************************************************\")"
   ]
  },
  {
   "cell_type": "code",
   "execution_count": 32,
   "id": "34a72fee-2ef5-41c1-a953-99a0a02dc1fb",
   "metadata": {},
   "outputs": [
    {
     "name": "stdout",
     "output_type": "stream",
     "text": [
      "Corporate Finance Annuities and Perpetuities المعاشات السنوية والقروض الدائمة\n"
     ]
    }
   ],
   "source": [
    "print(\"Corporate Finance Annuities and Perpetuities المعاشات السنوية والقروض الدائمة\")"
   ]
  },
  {
   "cell_type": "code",
   "execution_count": 33,
   "id": "5194b16b-a364-4dec-ba97-8fb8b3e19643",
   "metadata": {},
   "outputs": [
    {
     "name": "stdout",
     "output_type": "stream",
     "text": [
      "Annuities المعاشات التقاعدية\n"
     ]
    }
   ],
   "source": [
    "print(\"Annuities المعاشات التقاعدية\")"
   ]
  },
  {
   "cell_type": "code",
   "execution_count": 34,
   "id": "ac99b27c-9b41-4eaf-8ff1-784371acb56b",
   "metadata": {},
   "outputs": [
    {
     "name": "stdout",
     "output_type": "stream",
     "text": [
      "Present Value (PV) of an Ordinary Annuity القيمة الحالية (PV) للمعاش التقاعدي العادي\n"
     ]
    }
   ],
   "source": [
    "print(\"Present Value (PV) of an Ordinary Annuity القيمة الحالية (PV) للمعاش التقاعدي العادي\")"
   ]
  },
  {
   "cell_type": "code",
   "execution_count": 35,
   "id": "d7634918-380a-4d38-a183-eabffc67c216",
   "metadata": {},
   "outputs": [
    {
     "name": "stdout",
     "output_type": "stream",
     "text": [
      "🔹 Example: Suppose you receive $500 annually for 5 years with a 10% interest rate.\n"
     ]
    }
   ],
   "source": [
    "print(\"🔹 Example: Suppose you receive $500 annually for 5 years with a 10% interest rate.\")"
   ]
  },
  {
   "cell_type": "code",
   "execution_count": 37,
   "id": "3ad25d60-b67f-47da-a666-6bb6bc0fae54",
   "metadata": {},
   "outputs": [
    {
     "name": "stdin",
     "output_type": "stream",
     "text": [
      "Enter Cash flow: 500\n",
      "Enter Discount rate: 0.10\n",
      "Enter Number of periods Year: 5\n"
     ]
    },
    {
     "name": "stdout",
     "output_type": "stream",
     "text": [
      "Present Value (PV) of an Ordinary Annuity = 1895.3933847042254\n"
     ]
    }
   ],
   "source": [
    "C = float(input(\"Enter Cash flow:\"))\n",
    "r = float(input(\"Enter Discount rate:\"))\n",
    "t = float(input(\"Enter Number of periods Year:\")) \n",
    "PV = C * (1 - 1 / ((1 + r)**t)) / r\n",
    "print(\"Present Value (PV) of an Ordinary Annuity =\",PV)"
   ]
  },
  {
   "cell_type": "code",
   "execution_count": 38,
   "id": "f6bcd2a7-5ec4-49db-820d-dfdcf3300aa8",
   "metadata": {},
   "outputs": [
    {
     "name": "stdout",
     "output_type": "stream",
     "text": [
      "****************************************************************************\n"
     ]
    }
   ],
   "source": [
    "print(\"****************************************************************************\")"
   ]
  },
  {
   "cell_type": "code",
   "execution_count": 39,
   "id": "9a67981e-fd88-4149-9dcf-61d20a7b3669",
   "metadata": {},
   "outputs": [
    {
     "name": "stdout",
     "output_type": "stream",
     "text": [
      "Future Value (FV) of an Annuity القيمة المستقبلية (FV) للمعاش التقاعدي\n"
     ]
    }
   ],
   "source": [
    "print(\"Future Value (FV) of an Annuity القيمة المستقبلية (FV) للمعاش التقاعدي\")"
   ]
  },
  {
   "cell_type": "code",
   "execution_count": 1,
   "id": "08627f67-fe1c-4266-b3d8-0bf0898d403d",
   "metadata": {},
   "outputs": [
    {
     "name": "stdout",
     "output_type": "stream",
     "text": [
      "Example: If you invest $500 annually for 5 years at 10% interest, the future value is:\n"
     ]
    }
   ],
   "source": [
    "print(\"Example: If you invest $500 annually for 5 years at 10% interest, the future value is:\")"
   ]
  },
  {
   "cell_type": "code",
   "execution_count": 2,
   "id": "0105652d-8d54-4557-bba7-d3dc4a1004b7",
   "metadata": {},
   "outputs": [
    {
     "name": "stdin",
     "output_type": "stream",
     "text": [
      "Enter Cash flow: 500\n",
      "Enter Discount rate: 0.10\n",
      "Enter Number of periods Year: 5\n"
     ]
    },
    {
     "name": "stdout",
     "output_type": "stream",
     "text": [
      "Future Value (FV) of an Annuity = 3052.5500000000025\n"
     ]
    }
   ],
   "source": [
    "C = float(input(\"Enter Cash flow:\"))\n",
    "r = float(input(\"Enter Discount rate:\"))\n",
    "t = float(input(\"Enter Number of periods Year:\")) \n",
    "FV = C * ((1 + r) ** t - 1) / r\n",
    "print(\"Future Value (FV) of an Annuity =\",FV)"
   ]
  },
  {
   "cell_type": "code",
   "execution_count": 3,
   "id": "b01f35be-623e-48ca-9a8a-a64265251a1f",
   "metadata": {},
   "outputs": [
    {
     "name": "stdout",
     "output_type": "stream",
     "text": [
      "*******************************************************************************\n"
     ]
    }
   ],
   "source": [
    "print(\"*******************************************************************************\")"
   ]
  },
  {
   "cell_type": "code",
   "execution_count": 4,
   "id": "c85c8e74-66d5-47ee-8cbd-49f1bccd2a11",
   "metadata": {},
   "outputs": [
    {
     "name": "stdout",
     "output_type": "stream",
     "text": [
      "Per_petuities القروض الدائمة\n"
     ]
    }
   ],
   "source": [
    "print(\"Per_petuities القروض الدائمة\")"
   ]
  },
  {
   "cell_type": "code",
   "execution_count": 5,
   "id": "e94b5b24-ac8d-457d-944d-868c08e6500a",
   "metadata": {},
   "outputs": [
    {
     "name": "stdout",
     "output_type": "stream",
     "text": [
      "Present Value (PV) of a Perpetuity القيمة الحالية (PV) للسندات الدائمة\n"
     ]
    }
   ],
   "source": [
    "print(\"Present Value (PV) of a Perpetuity القيمة الحالية (PV) للسندات الدائمة\")"
   ]
  },
  {
   "cell_type": "code",
   "execution_count": 6,
   "id": "5ac3b74c-4b47-444e-b442-dd312e71a8a6",
   "metadata": {},
   "outputs": [
    {
     "name": "stdout",
     "output_type": "stream",
     "text": [
      "PV = C / r\n",
      "C = Annual payment الدفع السنوي\n",
      "r = Discount rate معدل الخصم\n"
     ]
    }
   ],
   "source": [
    "print(\"PV = C / r\")\n",
    "print(\"C = Annual payment الدفع السنوي\")\n",
    "print(\"r = Discount rate معدل الخصم\")"
   ]
  },
  {
   "cell_type": "code",
   "execution_count": 7,
   "id": "018d552d-8dac-4a7a-a1ed-410de7317dde",
   "metadata": {},
   "outputs": [
    {
     "name": "stdout",
     "output_type": "stream",
     "text": [
      "🔹 Example: A company pays a fixed dividend of $1,000 per year forever, and the required return is 5%.\n"
     ]
    }
   ],
   "source": [
    "print(\"🔹 Example: A company pays a fixed dividend of $1,000 per year forever, and the required return is 5%.\")"
   ]
  },
  {
   "cell_type": "code",
   "execution_count": 8,
   "id": "6bc9d52d-c841-4d45-997b-c7e1ae1d9591",
   "metadata": {},
   "outputs": [
    {
     "name": "stdin",
     "output_type": "stream",
     "text": [
      "Enter Annual Payment: 1000\n",
      "Enter Discount Rate: 0.05\n"
     ]
    },
    {
     "name": "stdout",
     "output_type": "stream",
     "text": [
      "Present Value (PV) of a Perpetuity = 20000.0\n"
     ]
    }
   ],
   "source": [
    "C = float(input(\"Enter Annual Payment:\"))\n",
    "r = float(input(\"Enter Discount Rate:\"))\n",
    "PV = C / r\n",
    "print(\"Present Value (PV) of a Perpetuity =\",PV)"
   ]
  },
  {
   "cell_type": "code",
   "execution_count": 9,
   "id": "86e004b9-7d1f-45cd-903d-f764661db588",
   "metadata": {},
   "outputs": [
    {
     "name": "stdout",
     "output_type": "stream",
     "text": [
      "***********************************************************\n"
     ]
    }
   ],
   "source": [
    "print(\"***********************************************************\")"
   ]
  },
  {
   "cell_type": "code",
   "execution_count": 15,
   "id": "f06ae549-b326-4c83-8abd-ba53c4d109cd",
   "metadata": {},
   "outputs": [
    {
     "name": "stdout",
     "output_type": "stream",
     "text": [
      "Mortgage Calculations\n"
     ]
    }
   ],
   "source": [
    "print(\"Mortgage Calculations\")"
   ]
  },
  {
   "cell_type": "code",
   "execution_count": 22,
   "id": "2f42645f-8179-4b3c-9853-a2b1ec083d7d",
   "metadata": {},
   "outputs": [
    {
     "name": "stdout",
     "output_type": "stream",
     "text": [
      "If you take a $200,000 loan at an annual interest rate of 5% for 30 years:-\n"
     ]
    }
   ],
   "source": [
    "print(\"If you take a $200,000 loan at an annual interest rate of 5% for 30 years:-\")"
   ]
  },
  {
   "cell_type": "code",
   "execution_count": 19,
   "id": "5a099cfb-be08-4088-9450-cf6af8c0993c",
   "metadata": {},
   "outputs": [
    {
     "name": "stdin",
     "output_type": "stream",
     "text": [
      "Enter Loan principal (amount borrowed): 200000\n",
      "Enter Interest rate (annual rate ÷ 12): 0.05\n",
      "Enter Number of Years: 30\n"
     ]
    },
    {
     "name": "stdout",
     "output_type": "stream",
     "text": [
      "Mortgage Calculation: 1073.6432460242795\n"
     ]
    }
   ],
   "source": [
    "P = float(input(\"Enter Loan principal (amount borrowed):\"))\n",
    "r = float(input(\"Enter Interest rate (annual rate ÷ 12):\")) / 12\n",
    "n = float(input(\"Enter Number of Years:\")) * 12\n",
    "M = (P * r * (1 + r)**n) / (((1 + r)**n) - 1) \n",
    "print(\"Mortgage Calculation:\",M)"
   ]
  },
  {
   "cell_type": "code",
   "execution_count": 20,
   "id": "9b813421-a390-42b5-937d-48bf57abd592",
   "metadata": {},
   "outputs": [
    {
     "name": "stdout",
     "output_type": "stream",
     "text": [
      "386495.99999999994\n"
     ]
    }
   ],
   "source": [
    "print(1073.6 * 30 * 12)"
   ]
  },
  {
   "cell_type": "code",
   "execution_count": 21,
   "id": "de963a80-cbf6-4dac-8af0-39584e3d7a9d",
   "metadata": {},
   "outputs": [
    {
     "name": "stdout",
     "output_type": "stream",
     "text": [
      "186495.90000000002\n"
     ]
    }
   ],
   "source": [
    "print(386495.9 - 200000)"
   ]
  },
  {
   "cell_type": "code",
   "execution_count": 29,
   "id": "251c12e3-4eb7-4f1b-97b1-7e2ec226bd36",
   "metadata": {},
   "outputs": [
    {
     "name": "stdout",
     "output_type": "stream",
     "text": [
      "12883.199999999999\n"
     ]
    }
   ],
   "source": [
    "print(1073.6 * 12)"
   ]
  },
  {
   "cell_type": "code",
   "execution_count": 30,
   "id": "fc54ea7a-3e76-430f-a0a1-2835475ea20f",
   "metadata": {},
   "outputs": [
    {
     "name": "stdout",
     "output_type": "stream",
     "text": [
      "386495.99999999994\n"
     ]
    }
   ],
   "source": [
    "print(1073.6 * 12 * 30)"
   ]
  },
  {
   "cell_type": "code",
   "execution_count": 31,
   "id": "03c7edee-0735-48ba-ac7b-80de1fe81250",
   "metadata": {},
   "outputs": [
    {
     "name": "stdout",
     "output_type": "stream",
     "text": [
      "*****************************************\n"
     ]
    }
   ],
   "source": [
    "print(\"*****************************************\")"
   ]
  },
  {
   "cell_type": "code",
   "execution_count": 33,
   "id": "f4834086-c2f6-47ec-9449-4f3cb0e7e358",
   "metadata": {},
   "outputs": [
    {
     "name": "stdout",
     "output_type": "stream",
     "text": [
      "• Delayed Perpetuities And Growing Perpetuities الديون المؤجلة والديون المتنامية\n"
     ]
    }
   ],
   "source": [
    "print(\"• Delayed Perpetuities And Growing Perpetuities\",\"الديون المؤجلة والديون المتنامية\")"
   ]
  },
  {
   "cell_type": "code",
   "execution_count": 36,
   "id": "ccbe084e-54bd-4a2c-8a8b-6051f97b47ee",
   "metadata": {},
   "outputs": [
    {
     "name": "stdout",
     "output_type": "stream",
     "text": [
      "1. Regular Perpetuity الدوام المنتظم\n",
      "A company pays $2,000 per year indefinitely, with a 5% discount rate.\n"
     ]
    }
   ],
   "source": [
    "print(\"1. Regular Perpetuity\",\"الدوام المنتظم\")\n",
    "print(\"A company pays $2,000 per year indefinitely, with a 5% discount rate.\")"
   ]
  },
  {
   "cell_type": "code",
   "execution_count": 37,
   "id": "ec9e2991-ff47-4ed8-a8fe-c9b546ac7531",
   "metadata": {},
   "outputs": [
    {
     "name": "stdin",
     "output_type": "stream",
     "text": [
      "Enter Annual Payment: 2000\n",
      "Enter Discount rate: 0.05\n"
     ]
    },
    {
     "name": "stdout",
     "output_type": "stream",
     "text": [
      "40000.0\n"
     ]
    }
   ],
   "source": [
    "C = float(input(\"Enter Annual Payment:\"))\n",
    "r = float(input(\"Enter Discount rate:\"))\n",
    "PV = C / r\n",
    "print(PV)"
   ]
  },
  {
   "cell_type": "code",
   "execution_count": 41,
   "id": "a25fe371-47fd-4493-a201-772bdfb03a8c",
   "metadata": {},
   "outputs": [
    {
     "name": "stdout",
     "output_type": "stream",
     "text": [
      "**********************************************\n"
     ]
    }
   ],
   "source": [
    "print(\"**********************************************\")"
   ]
  },
  {
   "cell_type": "code",
   "execution_count": 43,
   "id": "42b7eaae-2a85-4104-98e9-cfccd669565c",
   "metadata": {},
   "outputs": [
    {
     "name": "stdout",
     "output_type": "stream",
     "text": [
      "Delayed Perpetuity\n",
      "A trust fund will pay $5,000 per year, starting in 5 years, with a 6% discount rate.\n"
     ]
    }
   ],
   "source": [
    "print(\"Delayed Perpetuity\")\n",
    "print(\"A trust fund will pay $5,000 per year, starting in 5 years, with a 6% discount rate.\")"
   ]
  },
  {
   "cell_type": "code",
   "execution_count": 53,
   "id": "3cab9cda-8b3d-4fe1-87ac-61e35d43f0e8",
   "metadata": {},
   "outputs": [
    {
     "name": "stdin",
     "output_type": "stream",
     "text": [
      "Enter Annual Payment: 5000\n",
      "Enter Discount rate: 0.06\n",
      "Enter Years: 5\n"
     ]
    },
    {
     "name": "stdout",
     "output_type": "stream",
     "text": [
      "62271.51440550476\n"
     ]
    }
   ],
   "source": [
    "C = float(input(\"Enter Annual Payment:\"))\n",
    "r = float(input(\"Enter Discount rate:\"))\n",
    "d = float(input(\"Enter Years:\"))\n",
    "Pv = C / r \n",
    "PV_delayed =   Pv / ((1 + r)**d) \n",
    "print(PV_delayed)"
   ]
  },
  {
   "cell_type": "code",
   "execution_count": 55,
   "id": "30b1178e-6cc4-4003-a8ba-c058188241be",
   "metadata": {},
   "outputs": [
    {
     "name": "stdout",
     "output_type": "stream",
     "text": [
      "*************************************************\n"
     ]
    }
   ],
   "source": [
    "print(\"*************************************************\")"
   ]
  },
  {
   "cell_type": "code",
   "execution_count": 56,
   "id": "0515693a-df02-49d8-be13-f0a470c9b6f2",
   "metadata": {},
   "outputs": [
    {
     "name": "stdout",
     "output_type": "stream",
     "text": [
      "Growing Perpetuity\n"
     ]
    }
   ],
   "source": [
    "print(\"Growing Perpetuity\")"
   ]
  },
  {
   "cell_type": "code",
   "execution_count": 57,
   "id": "b337c605-9de5-43ae-91ec-a26ea889b7cd",
   "metadata": {},
   "outputs": [
    {
     "name": "stdout",
     "output_type": "stream",
     "text": [
      "A stock pays $1,000 per year, growing at 3% annually, with a 7% discount rate.\n"
     ]
    }
   ],
   "source": [
    "print(\"A stock pays $1,000 per year, growing at 3% annually, with a 7% discount rate.\")"
   ]
  },
  {
   "cell_type": "code",
   "execution_count": 58,
   "id": "8401e0ff-2fc5-438b-95fb-d7a66eaba79c",
   "metadata": {},
   "outputs": [
    {
     "name": "stdin",
     "output_type": "stream",
     "text": [
      "Enter First payment: 1000\n",
      "Enter Discount rate: 0.03\n",
      "Growth rate of payments: 0.07\n"
     ]
    },
    {
     "name": "stdout",
     "output_type": "stream",
     "text": [
      "-24999.999999999996\n"
     ]
    }
   ],
   "source": [
    "C = float(input(\"Enter First payment:\"))\n",
    "r = float(input(\"Enter Discount rate:\"))\n",
    "g = float(input(\"Growth rate of payments:\"))\n",
    "PV = C / (r - g)\n",
    "print(PV)"
   ]
  },
  {
   "cell_type": "code",
   "execution_count": 59,
   "id": "b9d98668-2b5b-4eb0-8da1-bb799278ec9c",
   "metadata": {},
   "outputs": [
    {
     "name": "stdout",
     "output_type": "stream",
     "text": [
      "***********************************************\n"
     ]
    }
   ],
   "source": [
    "print(\"***********************************************\")"
   ]
  },
  {
   "cell_type": "code",
   "execution_count": 61,
   "id": "1b3afe39-48b3-47a3-a621-a9392536e2d4",
   "metadata": {},
   "outputs": [
    {
     "name": "stdout",
     "output_type": "stream",
     "text": [
      "Delayed Growing Perpetuity تأخير النمو الدائم\n"
     ]
    }
   ],
   "source": [
    "print(\"Delayed Growing Perpetuity\",\"تأخير النمو الدائم\")"
   ]
  },
  {
   "cell_type": "code",
   "execution_count": 62,
   "id": "6ed836c7-a86a-46f3-99d8-7a0aa89d43bc",
   "metadata": {},
   "outputs": [
    {
     "name": "stdout",
     "output_type": "stream",
     "text": [
      "A company will pay $2,500 per year, growing at 2% annually, but starting in 4 years, with a 6% discount rate.\n"
     ]
    }
   ],
   "source": [
    "print(\"A company will pay $2,500 per year, growing at 2% annually, but starting in 4 years, with a 6% discount rate.\")"
   ]
  },
  {
   "cell_type": "code",
   "execution_count": 64,
   "id": "b7aabc40-8d44-4f22-a6df-c786ccb1bf9c",
   "metadata": {},
   "outputs": [
    {
     "name": "stdin",
     "output_type": "stream",
     "text": [
      "Enter First payment: 2500\n",
      "Enter Discount rate: 0.06\n",
      "Growth rate of payments: 0.02\n",
      "Enter Years: 4\n"
     ]
    },
    {
     "name": "stdout",
     "output_type": "stream",
     "text": [
      "49505.85395237628\n"
     ]
    }
   ],
   "source": [
    "C = float(input(\"Enter First payment:\"))\n",
    "r = float(input(\"Enter Discount rate:\"))\n",
    "g = float(input(\"Growth rate of payments:\"))\n",
    "d = float(input(\"Enter Years:\"))\n",
    "PV_Delayed = (C / (r - g)) * (1 / ((1 + r)**d)) \n",
    "print(PV_Delayed)"
   ]
  },
  {
   "cell_type": "code",
   "execution_count": 65,
   "id": "684cfb9f-3091-47f5-ae13-17d772d5a1d8",
   "metadata": {},
   "outputs": [
    {
     "name": "stdout",
     "output_type": "stream",
     "text": [
      "*********************************************\n"
     ]
    }
   ],
   "source": [
    "print(\"*********************************************\")"
   ]
  },
  {
   "cell_type": "code",
   "execution_count": 67,
   "id": "c862e6c0-10c0-4d5f-87aa-4b4a06f314be",
   "metadata": {},
   "outputs": [
    {
     "name": "stdout",
     "output_type": "stream",
     "text": [
      ">>>Compounding Within the Year and the Effective Annual Interest Rate<<<\n",
      "الفائدة المركبة خلال العام ومعدل الفائدة السنوي الفعلي\n"
     ]
    }
   ],
   "source": [
    "print(\">>>Compounding Within the Year and the Effective Annual Interest Rate<<<\")\n",
    "print(\"الفائدة المركبة خلال العام ومعدل الفائدة السنوي الفعلي\")"
   ]
  },
  {
   "cell_type": "code",
   "execution_count": 68,
   "id": "88e5b0a8-2ba0-4695-b643-0b771c9a5cf0",
   "metadata": {},
   "outputs": [
    {
     "name": "stdout",
     "output_type": "stream",
     "text": [
      "1. Compounding Within the Year الفائدة المركبة خلال العام\n"
     ]
    }
   ],
   "source": [
    "print(\"1. Compounding Within the Year\",\"الفائدة المركبة خلال العام\")"
   ]
  },
  {
   "cell_type": "code",
   "execution_count": 69,
   "id": "8970da79-eddb-4064-80a2-0af9d8d78f38",
   "metadata": {},
   "outputs": [
    {
     "name": "stdout",
     "output_type": "stream",
     "text": [
      "You invest $1,000 at 5% annual interest, compounded quarterly (m = 4m=4) for 3 years.\n"
     ]
    }
   ],
   "source": [
    "print(\"You invest $1,000 at 5% annual interest, compounded quarterly (m = 4m=4) for 3 years.\")"
   ]
  },
  {
   "cell_type": "code",
   "execution_count": 72,
   "id": "e438a78e-56d2-4885-ac50-ea19829e6724",
   "metadata": {},
   "outputs": [
    {
     "name": "stdin",
     "output_type": "stream",
     "text": [
      "Enter Initial Amount 1000\n",
      "Enter Annual Interest Rate: 0.05\n",
      "Enter Number of compounding periods per year: 4\n",
      "Enter Number of years: 3\n"
     ]
    },
    {
     "name": "stdout",
     "output_type": "stream",
     "text": [
      "1160.7545177229981\n"
     ]
    }
   ],
   "source": [
    "P = float(input(\"Enter Initial Amount\"))\n",
    "r = float(input(\"Enter Annual Interest Rate:\"))\n",
    "m = float(input(\"Enter Number of compounding periods per year:\"))\n",
    "t = float(input(\"Enter Number of years:\"))\n",
    "FV = P * ((1 + (r / m))**(m*t))\n",
    "print(FV)"
   ]
  },
  {
   "cell_type": "code",
   "execution_count": 73,
   "id": "0857cbf3-4a3e-4248-8e5f-49aa4b7b02ac",
   "metadata": {},
   "outputs": [
    {
     "name": "stdout",
     "output_type": "stream",
     "text": [
      "*********************************************************\n"
     ]
    }
   ],
   "source": [
    "print(\"*********************************************************\")"
   ]
  },
  {
   "cell_type": "code",
   "execution_count": 74,
   "id": "d3f8854e-6e01-43a4-8a19-d5327c7b0cea",
   "metadata": {},
   "outputs": [
    {
     "name": "stdout",
     "output_type": "stream",
     "text": [
      "Effective Annual Interest Rate (EAR) معدل الفائدة السنوي الفعال\n"
     ]
    }
   ],
   "source": [
    "print(\"Effective Annual Interest Rate (EAR) معدل الفائدة السنوي الفعال\")"
   ]
  },
  {
   "cell_type": "code",
   "execution_count": 75,
   "id": "6811e338-0689-4f97-9c4e-74dc914705cb",
   "metadata": {},
   "outputs": [
    {
     "name": "stdout",
     "output_type": "stream",
     "text": [
      "A 10% nominal interest rate compounded monthly (m = 12m=12).\n"
     ]
    }
   ],
   "source": [
    "print(\"A 10% nominal interest rate compounded monthly (m = 12m=12).\")"
   ]
  },
  {
   "cell_type": "code",
   "execution_count": 81,
   "id": "25a5e0d9-f392-47c8-a7e8-5173e138f48a",
   "metadata": {},
   "outputs": [
    {
     "name": "stdin",
     "output_type": "stream",
     "text": [
      "Enter Nominal Interest Rate: 0.10\n",
      "Enter m: 12\n"
     ]
    },
    {
     "name": "stdout",
     "output_type": "stream",
     "text": [
      "10.471306744129683 %\n"
     ]
    }
   ],
   "source": [
    "r = float(input(\"Enter Nominal Interest Rate:\"))\n",
    "m = float(input(\"Enter m:\"))\n",
    "EAR = ((1 + r / m)**m) - 1\n",
    "print(EAR * 100,\"%\")"
   ]
  },
  {
   "cell_type": "code",
   "execution_count": 82,
   "id": "72043bd1-9cd2-4ea9-9579-216f46f32d5e",
   "metadata": {},
   "outputs": [
    {
     "name": "stdout",
     "output_type": "stream",
     "text": [
      "******************************************************************\n"
     ]
    }
   ],
   "source": [
    "print(\"******************************************************************\")"
   ]
  },
  {
   "cell_type": "code",
   "execution_count": 83,
   "id": "302098dd-39b9-4cc5-b706-baddef878608",
   "metadata": {},
   "outputs": [
    {
     "name": "stdout",
     "output_type": "stream",
     "text": [
      "******************************************************************\n"
     ]
    }
   ],
   "source": [
    "print(\"******************************************************************\")"
   ]
  },
  {
   "cell_type": "code",
   "execution_count": 2,
   "id": "8f62c55e-8ce4-46a3-9e45-d54b5d18b8c7",
   "metadata": {},
   "outputs": [
    {
     "name": "stdout",
     "output_type": "stream",
     "text": [
      "ملخص module 1\n"
     ]
    }
   ],
   "source": [
    "print(\"ملخص module 1\")"
   ]
  },
  {
   "cell_type": "code",
   "execution_count": 12,
   "id": "5138b906-9bad-4e02-b4aa-b2178b118e6c",
   "metadata": {},
   "outputs": [
    {
     "name": "stdout",
     "output_type": "stream",
     "text": [
      "\n",
      "--------------------------------------\n",
      "1>>Future Value(FV) القيمة المستقبلية.\n",
      "2>>Present Value(PV) القيمة الحالية.\n",
      "3>>Net Present Value(NPV) القيمة الحالية الصافية.\n",
      "4>>Separation Theorem نظرية الفصل.\n",
      "5>>Simple Interest (SI) الفائدة البسيطة.\n",
      "6>>Compound Interest (CI) الفائدة المركبة.\n",
      "7>>Annuities المعاشات التقاعدية. \n",
      "8>>Perpetuities القروض الدائمة.\n",
      "9>>Delayed Perpetuities تأخيرات دائمة.\n",
      "10>>Growing Perpetuities تنمية الاستدامة.\n",
      "11>>Delayed Growing Perpetuity تأخير النمو الدائم.\n",
      "12>>Compounding Within the Year {الفائدة المركبة خلال العام}and \n",
      ">>>>the Effective Annual Interest Rate {معدل الفائدة السنوي الفعلي}.\n",
      "13>>Effective Annual Interest Rate (EAR) {معدل الفائدة السنوي الفعال}.\n",
      "-----------------------------------------\n",
      "\n"
     ]
    }
   ],
   "source": [
    "print(\"\"\"\n",
    "--------------------------------------\n",
    "1>>Future Value(FV) القيمة المستقبلية.\n",
    "2>>Present Value(PV) القيمة الحالية.\n",
    "3>>Net Present Value(NPV) القيمة الحالية الصافية.\n",
    "4>>Separation Theorem نظرية الفصل.\n",
    "5>>Simple Interest (SI) الفائدة البسيطة.\n",
    "6>>Compound Interest (CI) الفائدة المركبة.\n",
    "7>>Annuities المعاشات التقاعدية. \n",
    "8>>Perpetuities القروض الدائمة.\n",
    "9>>Delayed Perpetuities تأخيرات دائمة.\n",
    "10>>Growing Perpetuities تنمية الاستدامة.\n",
    "11>>Delayed Growing Perpetuity تأخير النمو الدائم.\n",
    "12>>Compounding Within the Year {الفائدة المركبة خلال العام}and \n",
    ">>>>the Effective Annual Interest Rate {معدل الفائدة السنوي الفعلي}.\n",
    "13>>Effective Annual Interest Rate (EAR) {معدل الفائدة السنوي الفعال}.\n",
    "-----------------------------------------\n",
    "\"\"\")"
   ]
  },
  {
   "cell_type": "code",
   "execution_count": 6,
   "id": "4315e087-6a70-44c1-8dc3-ab49670c4614",
   "metadata": {},
   "outputs": [
    {
     "name": "stdout",
     "output_type": "stream",
     "text": [
      ">>>>Corporate Finance Is Mathematics Rules<<<<\n"
     ]
    }
   ],
   "source": [
    "print(\">>>>Corporate Finance Is Mathematics Rules<<<<\")"
   ]
  },
  {
   "cell_type": "code",
   "execution_count": 7,
   "id": "d63297fc-0077-431a-af35-d2c95904a5c4",
   "metadata": {},
   "outputs": [
    {
     "name": "stdout",
     "output_type": "stream",
     "text": [
      "################################################\n"
     ]
    }
   ],
   "source": [
    "print(\"################################################\")"
   ]
  },
  {
   "cell_type": "code",
   "execution_count": 9,
   "id": "0a865199-19d0-409a-b921-ff660eb47c94",
   "metadata": {},
   "outputs": [
    {
     "name": "stdout",
     "output_type": "stream",
     "text": [
      ">>>>Financial Analysis<<<<\n"
     ]
    }
   ],
   "source": [
    "print(\">>>>Financial Analysis<<<<\")"
   ]
  },
  {
   "cell_type": "code",
   "execution_count": null,
   "id": "0bc3d96a-f6e6-4513-bd05-c326d82cb826",
   "metadata": {},
   "outputs": [],
   "source": []
  }
 ],
 "metadata": {
  "kernelspec": {
   "display_name": "Python 3 (ipykernel)",
   "language": "python",
   "name": "python3"
  },
  "language_info": {
   "codemirror_mode": {
    "name": "ipython",
    "version": 3
   },
   "file_extension": ".py",
   "mimetype": "text/x-python",
   "name": "python",
   "nbconvert_exporter": "python",
   "pygments_lexer": "ipython3",
   "version": "3.11.7"
  }
 },
 "nbformat": 4,
 "nbformat_minor": 5
}
